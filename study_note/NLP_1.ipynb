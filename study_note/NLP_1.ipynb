{
 "cells": [
  {
   "cell_type": "markdown",
   "metadata": {},
   "source": [
    "## NLP_1 Working with Text and PDF Files"
   ]
  },
  {
   "cell_type": "markdown",
   "metadata": {},
   "source": [
    "### Reading Text Files"
   ]
  },
  {
   "cell_type": "markdown",
   "metadata": {},
   "source": [
    "使用 python 內建的函數```open()```即可把文件呼叫進環境中。"
   ]
  },
  {
   "cell_type": "code",
   "execution_count": 18,
   "metadata": {},
   "outputs": [],
   "source": [
    "myfile = open(\"myfile.txt\")"
   ]
  },
  {
   "cell_type": "markdown",
   "metadata": {},
   "source": [
    "透過```print()```呈現呼叫進來的文件的儲存格式，可以看到結果為一個 wrapper，且必須要用 read mode 讀取，故再加上```read()```來讀取文件內容。"
   ]
  },
  {
   "cell_type": "code",
   "execution_count": 19,
   "metadata": {},
   "outputs": [
    {
     "name": "stdout",
     "output_type": "stream",
     "text": [
      "<_io.TextIOWrapper name='myfile.txt' mode='r' encoding='UTF-8'>\n"
     ]
    }
   ],
   "source": [
    "print(myfile)"
   ]
  },
  {
   "cell_type": "code",
   "execution_count": 20,
   "metadata": {},
   "outputs": [
    {
     "name": "stdout",
     "output_type": "stream",
     "text": [
      "Welcome to Natural Language Processing\n",
      "It is one of the most exciting research areas as of today\n",
      "We will see how Python can be used to work with text files.\n"
     ]
    }
   ],
   "source": [
    "print(myfile.read()) # 讀取文件內容"
   ]
  },
  {
   "cell_type": "markdown",
   "metadata": {},
   "source": [
    "讀取過一次文件內容後，若在執行一次同樣的程式碼，就不會呈現任何東西了。這是因為在呼叫```read()```的時候，那份文件的游標就已經走到最後一格，再執行一次函數，自然沒有東西可以呈現。"
   ]
  },
  {
   "cell_type": "code",
   "execution_count": 21,
   "metadata": {},
   "outputs": [
    {
     "name": "stdout",
     "output_type": "stream",
     "text": [
      "\n"
     ]
    }
   ],
   "source": [
    "print(myfile.read())"
   ]
  },
  {
   "cell_type": "markdown",
   "metadata": {},
   "source": [
    "若要避免這個問題，可以使用```seek()```來調整該文件當中的游標位置以再次讀取文件，只要在```seek()```中放入 index 代表位置，游標就會移動到該位置。"
   ]
  },
  {
   "cell_type": "code",
   "execution_count": 23,
   "metadata": {},
   "outputs": [
    {
     "name": "stdout",
     "output_type": "stream",
     "text": [
      "Welcome to Natural Language Processing\n",
      "It is one of the most exciting research areas as of today\n",
      "We will see how Python can be used to work with text files.\n",
      "Welcome to Natural Language Processing\n",
      "It is one of the most exciting research areas as of today\n",
      "We will see how Python can be used to work with text files.\n"
     ]
    }
   ],
   "source": [
    "myfile = open(\"myfile.txt\")\n",
    "print(myfile.read())\n",
    "myfile.seek(0) # 把游標移到起始位置 \n",
    "print(myfile.read())"
   ]
  },
  {
   "cell_type": "markdown",
   "metadata": {},
   "source": [
    "若要結束讀取該文件，記得要養成好習慣，使用```close()```把文件關閉。"
   ]
  },
  {
   "cell_type": "code",
   "execution_count": 16,
   "metadata": {},
   "outputs": [],
   "source": [
    "myfile.close()"
   ]
  },
  {
   "cell_type": "markdown",
   "metadata": {},
   "source": [
    "### Reading Text Files Line by Line"
   ]
  },
  {
   "cell_type": "markdown",
   "metadata": {},
   "source": [
    "使用```read()```可以讀取整份文件，若改為使用```readlines()```可以逐行讀取文件，且每行都會被放在一個 list 當中呈現。"
   ]
  },
  {
   "cell_type": "code",
   "execution_count": 25,
   "metadata": {},
   "outputs": [
    {
     "name": "stdout",
     "output_type": "stream",
     "text": [
      "['Welcome to Natural Language Processing\\n', 'It is one of the most exciting research areas as of today\\n', 'We will see how Python can be used to work with text files.']\n"
     ]
    }
   ],
   "source": [
    "myfile = open(\"myfile.txt\")\n",
    "print(myfile.readlines())"
   ]
  },
  {
   "cell_type": "markdown",
   "metadata": {},
   "source": [
    "這種分行讀取的方式，相較於整份文件的讀取，便於分析者針對每行進行更細緻的操作。舉例來說，假使要獲取每行的第一個字，可以針對儲存文件的 wrapper 進行迴圈，就能夠輕易找出文件中的每一行，或者是進行其他基於每個行數的進階操作。"
   ]
  },
  {
   "cell_type": "code",
   "execution_count": 27,
   "metadata": {},
   "outputs": [
    {
     "name": "stdout",
     "output_type": "stream",
     "text": [
      "Welcome\n",
      "It\n",
      "We\n"
     ]
    }
   ],
   "source": [
    "myfile = open(\"myfile.txt\")\n",
    "for lines in myfile:\n",
    "    print(lines.split()[0]) # 取得每行的第一個字"
   ]
  },
  {
   "cell_type": "markdown",
   "metadata": {},
   "source": [
    "### Writing to a Text File"
   ]
  },
  {
   "cell_type": "code",
   "execution_count": null,
   "metadata": {},
   "outputs": [],
   "source": []
  }
 ],
 "metadata": {
  "kernelspec": {
   "display_name": "Python 3",
   "language": "python",
   "name": "python3"
  },
  "language_info": {
   "codemirror_mode": {
    "name": "ipython",
    "version": 3
   },
   "file_extension": ".py",
   "mimetype": "text/x-python",
   "name": "python",
   "nbconvert_exporter": "python",
   "pygments_lexer": "ipython3",
   "version": "3.6.4"
  }
 },
 "nbformat": 4,
 "nbformat_minor": 2
}
