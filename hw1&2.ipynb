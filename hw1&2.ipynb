{
 "cells": [
  {
   "cell_type": "markdown",
   "metadata": {},
   "source": [
    "# HW1"
   ]
  },
  {
   "cell_type": "markdown",
   "metadata": {},
   "source": [
    "##  1-1 檢查密碼\n",
    "為了使用者帳戶安全，我們會檢查使用者的密碼是否包含數字和英文字母。\n",
    "\n",
    "Input<br>\n",
    "輸入為一行，包含一個字串。\n",
    "\n",
    "Output<br>\n",
    "輸出為一行，若密碼中是數字和英文字母的組合，則輸出 True。否則，輸出 False。"
   ]
  },
  {
   "cell_type": "code",
   "execution_count": null,
   "metadata": {},
   "outputs": [],
   "source": [
    "s = input()\n",
    "ch = 0\n",
    "num = 0\n",
    "wrong = 0\n",
    "\n",
    "for i in s:\n",
    "    if (ord(i) >= 48 and ord(i) <= 57):\n",
    "        num += 1\n",
    "    elif (ord(i) >= 65 and ord(i) <= 90) or (ord(i) >= 97 and ord(i) <=122):\n",
    "        ch += 1\n",
    "    else:\n",
    "        wrong += 1\n",
    "\n",
    "if num > 0 and ch > 0 and wrong == 0:\n",
    "    print(\"True\")\n",
    "else:\n",
    "    print(\"False\")"
   ]
  },
  {
   "cell_type": "markdown",
   "metadata": {},
   "source": [
    "說明<br>\n",
    "利用for迴圈計算字串的數字、英文字母和其他字元的數量，若前二者大於0且其他字元數量等於0，則輸出True。"
   ]
  },
  {
   "cell_type": "markdown",
   "metadata": {},
   "source": [
    "## 1-2 十二生肖\n",
    "我們想要知道每一年主要的生肖是什麼。\n",
    "\n",
    "Input<br>\n",
    "輸入一個西元年。\n",
    "\n",
    "Output<br>\n",
    "輸出主要的生肖。"
   ]
  },
  {
   "cell_type": "code",
   "execution_count": null,
   "metadata": {},
   "outputs": [],
   "source": [
    "s = int(input())\n",
    "animals = [\"Rat\", \"Ox\", \"Tiger\", \"Rabbit\", \"Dragon\", \"Snake\", \n",
    "           \"Horse\", \"Goat\", \"Monkey\", \"Rooster\", \"Dog\", \"Pig\"]\n",
    "\n",
    "print(animals[s%12-4])"
   ]
  },
  {
   "cell_type": "markdown",
   "metadata": {},
   "source": [
    "說明<br>\n",
    "將年數對12取餘數，已知餘數為4的時候為鼠年，故再減去4讓餘數為4的年對應到animals的index 0。"
   ]
  },
  {
   "cell_type": "markdown",
   "metadata": {},
   "source": [
    "## 1-3 NTU等第\n",
    "台大成績採等第制，百分制和等第制約略依照以下對照表計分。<br>\n",
    "在這題中，我們希望用戶輸入一個百分制的成績，依照下方對照表計算出該分數的等第制成績。\n",
    "\n",
    "Input<br>\n",
    "輸入為一行，包含一個數字，代表百分制成績。\n",
    "\n",
    "Output<br>\n",
    "輸出為一行，包含一個字串，代表等第制成績。"
   ]
  },
  {
   "cell_type": "code",
   "execution_count": null,
   "metadata": {},
   "outputs": [],
   "source": [
    "s = int(input())\n",
    "\n",
    "if s >= 90 and s <= 100:\n",
    "    print(\"A+\")\n",
    "elif s >= 85 and s <= 89:\n",
    "    print(\"A\")\n",
    "elif s >= 80 and s <= 84:\n",
    "    print(\"A-\")\n",
    "elif s >= 77 and s <= 79:\n",
    "    print(\"B+\")\n",
    "elif s >= 73 and s <= 76:\n",
    "    print(\"B\")\n",
    "elif s >= 70 and s <= 72:\n",
    "    print(\"B-\")\n",
    "elif s >= 67 and s <= 69:\n",
    "    print(\"C+\")\n",
    "elif s >= 63 and s <= 66:\n",
    "    print(\"C\")\n",
    "elif s >= 60 and s <= 62:\n",
    "    print(\"C-\")\n",
    "elif s > 0 and s <= 59:\n",
    "    print(\"F\")\n",
    "elif s == 0:\n",
    "    print(\"X\")"
   ]
  },
  {
   "cell_type": "markdown",
   "metadata": {},
   "source": [
    "說明<br>\n",
    "利用if的條件式一一去檢索該成績落於哪個等第。"
   ]
  },
  {
   "cell_type": "markdown",
   "metadata": {},
   "source": [
    "## 1-4 字母轉數字\n",
    "我們想要寫個字母轉文字的程式。<br>\n",
    "我們希望a對應到1，b對應到2，...，y對應到25，z對應到26。\n",
    "\n",
    "Input<br>\n",
    "輸入為一行，包行一個字串。\n",
    "\n",
    "Output<br>\n",
    "輸出為一行，包含數個數字，數字間用逗號分割。"
   ]
  },
  {
   "cell_type": "code",
   "execution_count": null,
   "metadata": {},
   "outputs": [],
   "source": [
    "s = input()\n",
    "lst = []\n",
    "\n",
    "for i in s:\n",
    "    lst.append(str(ord(i)-96))\n",
    "    \n",
    "lst = \",\".join(lst)\n",
    "\n",
    "print(lst)"
   ]
  },
  {
   "cell_type": "markdown",
   "metadata": {},
   "source": [
    "說明<br>\n",
    "將字串每個字元利用ACSII碼進行轉換，再一一放入list當中，最後再用逗點將list當中的元素連接起來。"
   ]
  },
  {
   "cell_type": "markdown",
   "metadata": {},
   "source": [
    "## 1-5 數字轉字母\n",
    "我們想要寫個數字轉字母的程式。<br>\n",
    "我們希望1對應a，2對應b，...，25對應y，26對應z。\n",
    "\n",
    "Input<br>\n",
    "輸入為一行，包含數個數字，數字之前用逗號分割。\n",
    "\n",
    "Output<br>\n",
    "輸出唯一行，包含一個字串，即轉換後的結果。"
   ]
  },
  {
   "cell_type": "code",
   "execution_count": null,
   "metadata": {},
   "outputs": [],
   "source": [
    "s = input()\n",
    "s = s.split(\",\")\n",
    "\n",
    "for i in s:\n",
    "    print(chr(int(i)+96), end = \"\")"
   ]
  },
  {
   "cell_type": "markdown",
   "metadata": {},
   "source": [
    "說明<br>\n",
    "將逗號分隔符號拿掉並合併為一個數字字串，再將每一個數字字元利用ACSII碼轉換為英文字元。"
   ]
  },
  {
   "cell_type": "markdown",
   "metadata": {},
   "source": [
    "# HW2"
   ]
  },
  {
   "cell_type": "markdown",
   "metadata": {},
   "source": [
    "## 2-1 數字最小值排列\n",
    "輸入一個正整數，請將數字重新排列後，輸出數值最小的數。\n",
    "\n",
    "Input<br>\n",
    "輸入有一行，為一個正整數。\n",
    "\n",
    "Output<br>\n",
    "輸出為一行，為一個正整數。<br>\n",
    "備註：0不能放在數字首位。"
   ]
  },
  {
   "cell_type": "code",
   "execution_count": null,
   "metadata": {},
   "outputs": [],
   "source": [
    "def min_num(s):\n",
    "    \n",
    "    lst = sorted(s)\n",
    "    lst2 = [str(i) for i in lst] \n",
    "    lst3 = []\n",
    "    \n",
    "    for i in lst:\n",
    "        if i == \"0\":\n",
    "            continue\n",
    "        else:\n",
    "            lst3.append(i)\n",
    "            lst2.remove(i)\n",
    "            break\n",
    "    \n",
    "    lst3.extend(lst2)\n",
    "    num = \"\".join(lst3)\n",
    "    \n",
    "    return int(num)\n",
    "\n",
    "print(min_num(input()))"
   ]
  },
  {
   "cell_type": "markdown",
   "metadata": {},
   "source": [
    "說明<br>\n",
    "先將正整數用string list的格式由小到大重新排列，由於0不能在首位，抓出第二小的數字放入另外一個新的list當中，再將舊的list連接在新的list後面，最後把每個數字字元合併再轉為integer輸出。"
   ]
  },
  {
   "cell_type": "markdown",
   "metadata": {},
   "source": [
    "## 2-2 字母總和排序\n",
    "請實作一個函式sort_dict，依照字典序和（ex. car = 3+1+18 = 22），由小而大排列給定的詞並排序。\n",
    "\n",
    "Input<br>\n",
    "函式有一個參數s，型態為str，包含數個詞，詞和詞之間以空格分割。\n",
    "\n",
    "Output<br>\n",
    "函式有一個回傳值，型態為list，串列中的每個元素型態為str。"
   ]
  },
  {
   "cell_type": "code",
   "execution_count": null,
   "metadata": {},
   "outputs": [],
   "source": [
    "def num(s):\n",
    "    \n",
    "    num = 0\n",
    "    for i in s.lower():\n",
    "        num += ord(i) - 96\n",
    "    \n",
    "    return num\n",
    "\n",
    "def sort_dict(s):\n",
    "    \n",
    "    lst = [str(i) for i in s.split()]\n",
    "    lst = sorted(lst, key = num)\n",
    "    return lst"
   ]
  },
  {
   "cell_type": "markdown",
   "metadata": {},
   "source": [
    "說明<br>\n",
    "先定義一個函式稱作num，用以計算字典序和，將該函式的參數轉為小寫，並用累加的方式計算再回傳字典序和。<br>\n",
    "接著定義一個函式稱作sort_dict，該函式將一連串的字串轉為list，並將list以num的回傳值排序再回傳。"
   ]
  },
  {
   "cell_type": "markdown",
   "metadata": {},
   "source": [
    "## 2-3 數字串列處理器\n",
    "在之前的練習中，我們實作過「奇偶個數差（odd_even_count_sub）」、「冠亞軍分數差（top2_max_sub）」和「最大奇偶相差（max_odd_even_sub）」。<br>\n",
    "現在，我們需要實作一個數字串列處理器，這個處理器擁有以上三個功能。讓使用者輸入若干個數以及需要的功能，接著輸出對應的結果。\n",
    "\n",
    "Input<br>\n",
    "函式有一個參數，型態為 list，串列中每個元素的型態為int。\n",
    "\n",
    "Output<br>\n",
    "函式有一個回傳值，型態為int。"
   ]
  },
  {
   "cell_type": "code",
   "execution_count": null,
   "metadata": {},
   "outputs": [],
   "source": [
    "def odd_even_count_sub(lst):\n",
    "    \n",
    "    lst = [int(i) for i in lst]\n",
    "    odd = 0\n",
    "    even = 0\n",
    "    \n",
    "    for i in lst:\n",
    "        if i%2 == 0:\n",
    "            even += 1\n",
    "        else:\n",
    "            odd += 1\n",
    "            \n",
    "    ans = abs(odd - even)\n",
    "    \n",
    "    return ans\n",
    "\n",
    "def top2_max_sub(lst):\n",
    "    \n",
    "    lst = [int(i) for i in lst]\n",
    "    maxnum = max(lst)\n",
    "    \n",
    "    lst.remove(maxnum)\n",
    "    secondmax = max(lst)\n",
    "    \n",
    "    ans = maxnum - secondmax\n",
    "    \n",
    "    return ans\n",
    "\n",
    "def max_odd_even_sub(lst):\n",
    "    \n",
    "    lst = [int(i) for i in lst]\n",
    "    odd = []\n",
    "    even = []\n",
    "    \n",
    "    for i in lst:\n",
    "        if i%2 == 0:\n",
    "            even.append(i)\n",
    "        else:\n",
    "            odd.append(i)\n",
    "            \n",
    "    ans = abs(max(odd) - max(even))\n",
    "    \n",
    "    return ans"
   ]
  },
  {
   "cell_type": "markdown",
   "metadata": {},
   "source": [
    "說明<br>\n",
    "定義一函式為odd_even_count_sub，用for迴圈累加list中奇數和偶數的個數，最後回傳兩者個數差的絕對值。<br>\n",
    "定義一函式為top2_max_sub，取得list中的最大值稱作maxnum，再將該值從list中移除並再求一次最大值稱作secondmax，回傳兩者的差。<br>\n",
    "定義一函式為max_odd_even_sub，用for迴圈創造分別裝著奇數與偶數的兩個list，並回傳兩個list的最大值的差的絕對值。"
   ]
  },
  {
   "cell_type": "markdown",
   "metadata": {},
   "source": [
    "## 2-4 字母接龍\n",
    "給定20個字母對應關係，如：A=>V，代表字母A對應到字母V。請順著對應關係，找出由給定字母開始的循環。\n",
    "\n",
    "Input<br>\n",
    "輸入有21行。前20行是一個字串，包含兩個字母，字母間用空格分開，代表著字母間的對應關係。第21行為一個字串，包含一個字母，代表起始的字母。\n",
    "\n",
    "Output<br>\n",
    "輸出有一行，包含若干個字母，字母間用空格分割。代表著從起始字母開始，依照對應關係會遇到的所有字母。"
   ]
  },
  {
   "cell_type": "code",
   "execution_count": null,
   "metadata": {},
   "outputs": [],
   "source": [
    "dic = {}\n",
    "\n",
    "for i in range(20):\n",
    "    s = [str(i) for i in input().split()]\n",
    "    dic[s[0]] = s[1]\n",
    "    \n",
    "start = input()\n",
    "lst = []\n",
    "lst.append(start)\n",
    "lst.append(dic.get(start))\n",
    "\n",
    "while(lst[0] != lst[-1]):\n",
    "    lst.append(dic.get(lst[-1]))\n",
    "    \n",
    "lst.pop()\n",
    "    \n",
    "print(\" \".join(lst))"
   ]
  },
  {
   "cell_type": "markdown",
   "metadata": {},
   "source": [
    "說明<br>\n",
    "利用for迴圈將20組的對應關係分別放入dict當中，再生成一個list，放入起始字母和其所對應的字母，接著進入while迴圈，只要list的最後一個值和第一個值不一樣，就持續在list中放入list最後一個值的對應值，while迴圈結束之後，拿掉list中最後一個值（因為和第一個值相同），最後用空格連接list中的值。"
   ]
  },
  {
   "cell_type": "markdown",
   "metadata": {},
   "source": [
    "## 2-5 字母拼圖\n",
    "請實作一個函式char_puzzle，給定一個串列，串列中包含若干個英文字，請找出這些英文字使用了哪些英文字母（照a~z排序）。\n",
    "\n",
    "Input<br>\n",
    "函式有一個參數，型態為list，串列中的元素型態為str。\n",
    "\n",
    "Ouput<br>\n",
    "函式有一個回傳值，回傳值型態為 str，代表有用到的英文字母（依照a~z排序）。"
   ]
  },
  {
   "cell_type": "code",
   "execution_count": null,
   "metadata": {},
   "outputs": [],
   "source": [
    "def char_puzzle(lst):\n",
    "    \n",
    "    lst2 = []\n",
    "    char = \"\".join(lst)\n",
    "    \n",
    "    for i in char:\n",
    "        if i in lst2:\n",
    "            continue\n",
    "        else:\n",
    "            lst2.append(i)\n",
    "            \n",
    "    ans = \"\".join(sorted(lst2))\n",
    "    \n",
    "    return ans"
   ]
  },
  {
   "cell_type": "markdown",
   "metadata": {},
   "source": [
    "說明<br>\n",
    "定義一個函式char_puzzle，將list中的字串全部連接在一起，利用for迴圈檢查字母的list中有沒有特定字母字元，沒有的話放入list中，有的話則略過，最後將字母的list排序後全部連接在一起並回傳。"
   ]
  }
 ],
 "metadata": {
  "kernelspec": {
   "display_name": "Python 3",
   "language": "python",
   "name": "python3"
  },
  "language_info": {
   "codemirror_mode": {
    "name": "ipython",
    "version": 3
   },
   "file_extension": ".py",
   "mimetype": "text/x-python",
   "name": "python",
   "nbconvert_exporter": "python",
   "pygments_lexer": "ipython3",
   "version": "3.6.4"
  }
 },
 "nbformat": 4,
 "nbformat_minor": 2
}
